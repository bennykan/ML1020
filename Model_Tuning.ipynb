{
 "cells": [
  {
   "cell_type": "code",
   "execution_count": 1,
   "metadata": {},
   "outputs": [
    {
     "name": "stderr",
     "output_type": "stream",
     "text": [
      "Using TensorFlow backend.\n"
     ]
    },
    {
     "name": "stdout",
     "output_type": "stream",
     "text": [
      "Found 17943 images belonging to 10 classes.\n",
      "Found 4481 images belonging to 10 classes.\n"
     ]
    }
   ],
   "source": [
    "from keras.preprocessing.image import ImageDataGenerator\n",
    "import model_util as util\n",
    "from keras.applications import VGG19\n",
    "import os\n",
    "\n",
    "base_dir = '/home/jupyter/Data'\n",
    "train_dir = os.path.join(base_dir, 'train')\n",
    "\n",
    "train_datagen = ImageDataGenerator(\n",
    "      rescale=1./255,\n",
    "      rotation_range=40,\n",
    "      featurewise_center=True,\n",
    "      width_shift_range=0.2,\n",
    "      height_shift_range=0.2,\n",
    "      shear_range=0.2,\n",
    "      zoom_range=0.2,\n",
    "      horizontal_flip=True,\n",
    "      fill_mode='nearest',\n",
    "    validation_split=0.2\n",
    "    )\n",
    "\n",
    "\n",
    "\n",
    "train_generator = train_datagen.flow_from_directory(\n",
    "        # This is the target directory\n",
    "        train_dir,\n",
    "        # All images will be resized to 150x150\n",
    "        target_size=(150, 150),\n",
    "        batch_size=20,\n",
    "        class_mode='categorical',\n",
    "        subset=\"training\",\n",
    "        shuffle = True\n",
    "        )\n",
    "\n",
    "validation_generator = train_datagen.flow_from_directory(\n",
    "        # This is the target directory\n",
    "        train_dir,\n",
    "        # All images will be resized to 150x150\n",
    "        target_size=(150, 150),\n",
    "        batch_size=20,\n",
    "        class_mode='categorical',\n",
    "        subset=\"validation\",\n",
    "        shuffle = True\n",
    "        )"
   ]
  },
  {
   "cell_type": "code",
   "execution_count": 8,
   "metadata": {},
   "outputs": [],
   "source": [
    "from keras import optimizers\n",
    "p = {'lr': (1e-3, 1e-5),# ],\n",
    "     #'batch_size': (10,20, 30),\n",
    "     'epochs': [150],\n",
    "\n",
    "     'optimizer': [optimizers.Adam,optimizers.RMSprop],\n",
    "     #'losses': ['logcosh', 'binary_crossentropy'],\n",
    "     'activation':['relu','elu'],\n",
    "     #'last_activation': ['sigmoid']\n",
    "    }\n",
    "    "
   ]
  },
  {
   "cell_type": "code",
   "execution_count": 9,
   "metadata": {},
   "outputs": [],
   "source": [
    "models = []\n",
    "for lr in p['lr']:\n",
    "    for epoch in p['epochs']:\n",
    "        #for ls in p['losses']:\n",
    "            #for bs in p['batch_size']:\n",
    "                for opt in p['optimizer']:\n",
    "                    for act in p['activation']:\n",
    "                        #print(str(lr) + ' ' + str(epoch) + ' ' + ls + ' ' + str(bs) + ' ' + str(opt) + ' '+ act)\n",
    "                        runmodel = [lr,epoch,opt,act]\n",
    "                        models.append(runmodel)\n",
    "\n",
    "                "
   ]
  },
  {
   "cell_type": "code",
   "execution_count": 10,
   "metadata": {},
   "outputs": [
    {
     "name": "stdout",
     "output_type": "stream",
     "text": [
      "[0.001, 150, <class 'keras.optimizers.Adam'>, 'relu']\n",
      "[0.001, 150, <class 'keras.optimizers.Adam'>, 'elu']\n",
      "[0.001, 150, <class 'keras.optimizers.RMSprop'>, 'relu']\n",
      "[0.001, 150, <class 'keras.optimizers.RMSprop'>, 'elu']\n",
      "[1e-05, 150, <class 'keras.optimizers.Adam'>, 'relu']\n",
      "[1e-05, 150, <class 'keras.optimizers.Adam'>, 'elu']\n",
      "[1e-05, 150, <class 'keras.optimizers.RMSprop'>, 'relu']\n",
      "[1e-05, 150, <class 'keras.optimizers.RMSprop'>, 'elu']\n"
     ]
    }
   ],
   "source": [
    "for i in models:\n",
    "    print(i)"
   ]
  },
  {
   "cell_type": "code",
   "execution_count": null,
   "metadata": {},
   "outputs": [],
   "source": []
  },
  {
   "cell_type": "code",
   "execution_count": 5,
   "metadata": {},
   "outputs": [
    {
     "name": "stdout",
     "output_type": "stream",
     "text": [
      "16\n"
     ]
    }
   ],
   "source": [
    "\n",
    "\n",
    "vgg19_base = VGG19(weights='imagenet',\n",
    "                  include_top=False,\n",
    "                  input_shape=(150, 150, 3))\n",
    "\n",
    "vgg19_base.trainable = True\n",
    "\n",
    "set_trainable = False\n",
    "for layer in vgg19_base.layers:\n",
    "    if layer.name == 'block5_conv1' or layer.name == 'block4_conv1':\n",
    "        set_trainable = True\n",
    "    if set_trainable:\n",
    "        layer.trainable = True\n",
    "    else:\n",
    "        layer.trainable = False\n",
    "print(len(vgg19_base.trainable_weights))"
   ]
  },
  {
   "cell_type": "code",
   "execution_count": 6,
   "metadata": {},
   "outputs": [
    {
     "data": {
      "text/plain": [
       "\u001b[0;31mSignature:\u001b[0m\n",
       "\u001b[0mutil\u001b[0m\u001b[0;34m.\u001b[0m\u001b[0mrun_tuning_model_2hidden_hyper\u001b[0m\u001b[0;34m(\u001b[0m\u001b[0;34m\u001b[0m\n",
       "\u001b[0;34m\u001b[0m    \u001b[0;34m[\u001b[0m\u001b[0;34m'pretraind_model'\u001b[0m\u001b[0;34m,\u001b[0m \u001b[0;34m'lrate'\u001b[0m\u001b[0;34m,\u001b[0m \u001b[0;34m'num_epoch'\u001b[0m\u001b[0;34m,\u001b[0m \u001b[0;34m'optimizers'\u001b[0m\u001b[0;34m,\u001b[0m \u001b[0;34m'activate_func'\u001b[0m\u001b[0;34m,\u001b[0m \u001b[0;34m'train_generator'\u001b[0m\u001b[0;34m,\u001b[0m \u001b[0;34m'validation_generator'\u001b[0m\u001b[0;34m,\u001b[0m \u001b[0;34m'final_models'\u001b[0m\u001b[0;34m,\u001b[0m \u001b[0;34m'count'\u001b[0m\u001b[0;34m]\u001b[0m\u001b[0;34m,\u001b[0m\u001b[0;34m\u001b[0m\n",
       "\u001b[0;34m\u001b[0m\u001b[0;34m)\u001b[0m\u001b[0;34m\u001b[0m\u001b[0m\n",
       "\u001b[0;31mDocstring:\u001b[0m <no docstring>\n",
       "\u001b[0;31mFile:\u001b[0m      ~/ML1020/model_util.py\n",
       "\u001b[0;31mType:\u001b[0m      function\n"
      ]
     },
     "metadata": {},
     "output_type": "display_data"
    }
   ],
   "source": [
    "#for i in models\n",
    "?util.run_tuning_model_2hidden_hyper\n"
   ]
  },
  {
   "cell_type": "code",
   "execution_count": 7,
   "metadata": {},
   "outputs": [
    {
     "name": "stdout",
     "output_type": "stream",
     "text": [
      "Started\n",
      "Epoch 1/1\n",
      "10/10 [==============================] - 9s 884ms/step - loss: 2.6831 - acc: 0.0750 - val_loss: 2.3187 - val_acc: 0.0800\n",
      "0.001\n",
      "Finished\n",
      "Saved model to disk\n",
      "[['Model_ 1 ', 0.001, 1, <class 'keras.optimizers.Adam'>, 'relu', 0.07500000186264515, 2.683117651939392, 0.0800000011920929, 2.3187397956848144]]\n",
      "Started\n",
      "Epoch 1/2\n",
      "10/10 [==============================] - 6s 584ms/step - loss: 2.3329 - acc: 0.1100 - val_loss: 2.2992 - val_acc: 0.1300\n",
      "0.001\n",
      "Epoch 2/2\n",
      "10/10 [==============================] - 3s 287ms/step - loss: 2.3035 - acc: 0.0850 - val_loss: 2.3012 - val_acc: 0.1150\n",
      "0.001\n",
      "Finished\n",
      "Saved model to disk\n",
      "[['Model_ 1 ', 0.001, 1, <class 'keras.optimizers.Adam'>, 'relu', 0.07500000186264515, 2.683117651939392, 0.0800000011920929, 2.3187397956848144], ['Model_ 2 ', 0.001, 2, <class 'keras.optimizers.Adam'>, 'relu', 0.08500000163912773, 2.3035458087921143, 0.11500000171363353, 2.3011946201324465]]\n",
      "Started\n",
      "Epoch 1/1\n",
      "10/10 [==============================] - 6s 586ms/step - loss: 2.3026 - acc: 0.0650 - val_loss: 2.3026 - val_acc: 0.0950\n",
      "1e-05\n",
      "Finished\n",
      "Saved model to disk\n",
      "[['Model_ 1 ', 0.001, 1, <class 'keras.optimizers.Adam'>, 'relu', 0.07500000186264515, 2.683117651939392, 0.0800000011920929, 2.3187397956848144], ['Model_ 2 ', 0.001, 2, <class 'keras.optimizers.Adam'>, 'relu', 0.08500000163912773, 2.3035458087921143, 0.11500000171363353, 2.3011946201324465], ['Model_ 3 ', 1e-05, 1, <class 'keras.optimizers.Adam'>, 'relu', 0.06500000134110451, 2.3025935888290405, 0.09500000141561031, 2.302585506439209]]\n",
      "Started\n",
      "Epoch 1/2\n",
      "10/10 [==============================] - 6s 603ms/step - loss: 2.3026 - acc: 0.1200 - val_loss: 2.3026 - val_acc: 0.1200\n",
      "1e-05\n",
      "Epoch 2/2\n",
      "10/10 [==============================] - 3s 292ms/step - loss: 2.3026 - acc: 0.1450 - val_loss: 2.3026 - val_acc: 0.0850\n",
      "1e-05\n",
      "Finished\n",
      "Saved model to disk\n",
      "[['Model_ 1 ', 0.001, 1, <class 'keras.optimizers.Adam'>, 'relu', 0.07500000186264515, 2.683117651939392, 0.0800000011920929, 2.3187397956848144], ['Model_ 2 ', 0.001, 2, <class 'keras.optimizers.Adam'>, 'relu', 0.08500000163912773, 2.3035458087921143, 0.11500000171363353, 2.3011946201324465], ['Model_ 3 ', 1e-05, 1, <class 'keras.optimizers.Adam'>, 'relu', 0.06500000134110451, 2.3025935888290405, 0.09500000141561031, 2.302585506439209], ['Model_ 4 ', 1e-05, 2, <class 'keras.optimizers.Adam'>, 'relu', 0.14500000178813935, 2.3025756597518923, 0.08500000275671482, 2.3025856733322145]]\n"
     ]
    }
   ],
   "source": [
    "final_models = []\n",
    "count = 0\n",
    "for i in models:\n",
    "    count += 1\n",
    "    output = util.run_tuning_model_2hidden_hyper(vgg19_base,i[0],i[1],i[2],i[3],train_generator,validation_generator,final_models,count)"
   ]
  },
  {
   "cell_type": "code",
   "execution_count": 19,
   "metadata": {},
   "outputs": [],
   "source": [
    "import pandas as pd\n",
    "df = pd.DataFrame(output,columns = ['Model','Inital Learning Rate','Max Epochs','Optimizers','Activation','Train Accuracy','Train Loss','Val Accuracy','Val Loss'])\n",
    "df.to_csv('/home/jupyter/TuningOutput/TuningOutput.csv',index=False)"
   ]
  },
  {
   "cell_type": "code",
   "execution_count": null,
   "metadata": {},
   "outputs": [],
   "source": []
  }
 ],
 "metadata": {
  "kernelspec": {
   "display_name": "Python 3",
   "language": "python",
   "name": "python3"
  },
  "language_info": {
   "codemirror_mode": {
    "name": "ipython",
    "version": 3
   },
   "file_extension": ".py",
   "mimetype": "text/x-python",
   "name": "python",
   "nbconvert_exporter": "python",
   "pygments_lexer": "ipython3",
   "version": "3.5.3"
  }
 },
 "nbformat": 4,
 "nbformat_minor": 2
}
